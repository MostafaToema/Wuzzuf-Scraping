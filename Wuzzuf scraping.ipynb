{
 "cells": [
  {
   "cell_type": "code",
   "execution_count": 1,
   "id": "378d87f6-f9eb-4177-ae12-23b8cddac915",
   "metadata": {},
   "outputs": [],
   "source": [
    "from selenium import webdriver\n",
    "from selenium.webdriver.firefox.options import Options\n",
    "import time\n",
    "\n",
    "# Import Pandas, Matplotlib and Seaborn\n",
    "import pandas as pd\n",
    "import matplotlib.pyplot as plt\n",
    "import seaborn as sns\n",
    "sns.set();"
   ]
  },
  {
   "cell_type": "code",
   "execution_count": 2,
   "id": "70ca783a-3f7c-4918-99f3-9ed306d1324f",
   "metadata": {},
   "outputs": [],
   "source": [
    "# Firefox deiver path\n",
    "firefoxpath = r\"./geckodriver\"\n",
    "\n",
    "# Wuzzuf link\n",
    "wuzzuf_page = \"https://wuzzuf.net/jobs/egypt\"\n",
    "\n",
    "# Job name\n",
    "job = 'machine learning engineer'"
   ]
  },
  {
   "cell_type": "code",
   "execution_count": 3,
   "id": "c708faad-745e-422f-a814-c9fc98566d04",
   "metadata": {},
   "outputs": [],
   "source": [
    "option = webdriver.FirefoxOptions()\n",
    "\n",
    "option.add_argument(\"–disk-cache-size=3000000000\") # OPTIONAL\n",
    "\n",
    "# Firefox\n",
    "driver = webdriver.Firefox(executable_path=firefoxpath)\n",
    "\n",
    "driver.get(wuzzuf_page)\n",
    "time.sleep(3)"
   ]
  },
  {
   "cell_type": "code",
   "execution_count": 4,
   "id": "513daefb-6754-4662-8704-93b21354a872",
   "metadata": {},
   "outputs": [],
   "source": [
    "search_job = driver.find_element_by_css_selector(\"input[class='search-bar-input']\")\n",
    "search_job.send_keys(job)\n",
    "\n",
    "search_button = driver.find_element_by_css_selector(\"button[class='btn btn-primary search-btn']\")\n",
    "search_button.click()\n",
    "time.sleep(3)"
   ]
  },
  {
   "cell_type": "code",
   "execution_count": 5,
   "id": "e0993ad7-98da-40ea-a4b9-16036e32ea6a",
   "metadata": {},
   "outputs": [],
   "source": [
    "all_skils = []\n",
    "all_year_of_exp = []"
   ]
  },
  {
   "cell_type": "code",
   "execution_count": 6,
   "id": "8caddfe0-9bfc-4973-82e7-7bf1eae164b8",
   "metadata": {},
   "outputs": [],
   "source": [
    "for _ in range(3):\n",
    "    all_jobs = driver.find_elements_by_css_selector(\"div[class='css-1gatmva e1v1l3u10']\")\n",
    "    main_page_url = driver.current_url\n",
    "    job_links = []\n",
    "    \n",
    "    for job in all_jobs:\n",
    "        job_link = job.find_element_by_css_selector(\"a[class='css-o171kl']\").get_attribute(\"href\")\n",
    "        job_links.append(job_link)\n",
    "    \n",
    "    for job_link in job_links:\n",
    "        driver.get(job_link)\n",
    "        time.sleep(3)\n",
    "        \n",
    "        # driver.execute_script(\"window.scrollBy(0,500)\")\n",
    "        \n",
    "        skils_per_job = driver.find_element_by_xpath(\"/html/body/div[1]/div/main/article/section[2]/div[6]\").text.split('\\n')\n",
    "        del skils_per_job[0]\n",
    "\n",
    "        YrsofExp = driver.find_element_by_xpath('/html/body/div[1]/div/main/article/section[2]/div[1]').text.split('\\n')\n",
    "        YrsofExp = YrsofExp[1]\n",
    "\n",
    "        all_skils.append(skils_per_job)\n",
    "        all_year_of_exp.append(YrsofExp)\n",
    "      \n",
    "    driver.get(main_page_url)\n",
    "    time.sleep(3)\n",
    "    \n",
    "    next_buton = driver.find_element_by_xpath(\"/html/body/div[1]/div/div[3]/div/div/div[3]/ul/li[5]/button\")\n",
    "    next_buton.click()\n",
    "    time.sleep(5)"
   ]
  },
  {
   "cell_type": "code",
   "execution_count": 7,
   "id": "f151861d-3e2e-4047-b121-21684752d1f9",
   "metadata": {},
   "outputs": [],
   "source": [
    "def flatten(jobs_skils):\n",
    "    return [skil for job_skils in jobs_skils for skil in job_skils]"
   ]
  },
  {
   "cell_type": "code",
   "execution_count": 8,
   "id": "75b2305f-2134-4b12-b44c-3070729a4e54",
   "metadata": {
    "tags": []
   },
   "outputs": [
    {
     "name": "stdout",
     "output_type": "stream",
     "text": [
      "Count of ML jobs:  44\n"
     ]
    }
   ],
   "source": [
    "print('Count of ML jobs: ', len(all_skils))"
   ]
  },
  {
   "cell_type": "code",
   "execution_count": 9,
   "id": "8908f768-05a0-4059-82a7-79fc50fa28ca",
   "metadata": {
    "tags": []
   },
   "outputs": [],
   "source": [
    "unique_skils = set(flatten(all_skils))"
   ]
  },
  {
   "cell_type": "code",
   "execution_count": 10,
   "id": "f0a654f5-2291-40ca-aa7c-d0df722ee150",
   "metadata": {},
   "outputs": [
    {
     "name": "stdout",
     "output_type": "stream",
     "text": [
      "Count of unique skils in ML jobs:  220\n",
      "Unique skils in ML jobs: \n",
      "{'OpenCV', 'Maintenance', 'MBA', 'Image Processing', 'Data Analysis', 'English', 'Engineering', 'Docker', 'coding', 'APEX', 'Production Engineering', 'Big Data', 'Adobe Photoshop', 'Manufacturing', 'Data', 'Adobe Indesign', 'Machine Learning', 'computer', 'Unit Testing', 'Data Warehousing', 'ITK', 'TensorFlow', 'Data Scientist', 'OLAP', 'Electrical Engineering', 'Visualization', 'Angular', 'Analytics', 'Welding', 'Professional Scrum Master', 'SSIS', 'NodeJS', 'PyTorch', 'DBT', 'Applied Arts', 'C++', 'GPU Programming', 'Robust', '3D Printing', 'Data Engineering', 'Fabrication', 'Mathematics', 'Communication skills', 'Deep Learning', 'DevOps', 'Application Security', 'TOGAF', 'Development', 'Technical', 'Engineering - Telecom/Technology', 'Engineering - Mechanical/Electrical', 'Consultant for Communication & Collaboration', 'Social Media', 'Clustering', 'MySQL', 'Data Management', 'Problem Solving', 'Testing', 'Microcontrollers', '.Net', 'Design', 'Creative/Design/Art', 'Computer Vision', 'ML', 'Quality', 'Mechatronics Engineering', 'Business', 'TLS', 'Naive Bayes', 'LAPACK', 'Azure', 'Project', 'SSL', 'IP', 'Consumer Goods', 'Mechatronics', 'Hadoop', 'Customer Service', 'GraphQL', 'Python/R', 'Communication', 'Operating Systems', 'SOAP', 'Printing', 'Core Data', 'ETL', 'Computer Science', 'Electrical', 'Data Mining', 'SSRS', 'APIs', 'Mechanical Design', 'Software', 'mathematical', 'Software Development', 'Applications', 'PHP', 'Laravel', 'Git', 'SDK', 'Linear Algebra', 'Data Engineer', 'javaScript', 'Management', 'Paython', 'Comupter Vision', 'Steel', 'Software Engineering', 'CNC', 'Django Rest', 'Looker', 'Implementation', 'Business Analytics', 'Sales', 'ReactNative', 'JIRA', 'MKL', 'Presales', 'developer', 'Data Warehouse', 'Qlik', 'Lambda', 'Digital', 'Statistics', 'Python', 'Mechanical Engineering', 'Electronics', 'Production', 'R&D', 'LMS', 'Social Listening', 'SAFe framework', 'RPA', 'automated testing', 'TCP', 'AI', 'Database', 'Linux OS', 'Computer Skills', 'Research and Development', 'Microsoft Azure', 'MongoDB', 'React', 'SQL', 'UNIX', 'Algorithms', 'Android', 'REST', 'OCR', 'Computer Engineering', 'Mechanical', 'Integrated Circuits', 'CCXP', 'Analysis', 'Vue.js', 'Kubernetes', 'Telecommunication', 'AWS', 'NoSQL', 'PMP', 'Full-Stack', 'Machine', 'Front-End', 'Text Mining', 'JavaScript', 'IT/Software Development', 'Laravel PHP', 'MS Power BI', 'Business Intelligence', 'Network Programming', 'Data Analyst', 'Power BI', 'Applied Mathematics', 'RESTful', '3D Graphics', 'Scripting', 'Cloud', 'Computer', 'Django', 'SQL Server', 'NLP', 'Node.js', 'Computer Graphics', 'Data Science', 'BI', 'Skills', 'Solution Architecture', 'A/B Testing', 'Keras', 'Theano', '3D Scanning', 'data scientist', 'Debugging', 'Developing', 'Kotlin', 'Econometric Learning', 'Linux', 'Science', 'Tableau', 'Project Management', 'Statistical Learning', 'D3', 'Research', 'T-SQL', 'Information Technology (IT)', 'Sales Skills', 'Backend developer', 'CUDA', 'Java', 'Manufacturing/Production', 'Medical Imaging', 'Programming', 'Agile', 'Informatica ETL', 'Neural Networks', 'Scrum', 'HTTPS', 'Spark', 'Artificial Intelligence (AI)', 'MS Office'}\n"
     ]
    }
   ],
   "source": [
    "print('Count of unique skils in ML jobs: ', len(unique_skils))\n",
    "print('Unique skils in ML jobs: ', unique_skils, sep =  '\\n')"
   ]
  },
  {
   "cell_type": "code",
   "execution_count": 11,
   "id": "9d30cbd8-3ded-4a26-a409-66c1c95e485b",
   "metadata": {},
   "outputs": [
    {
     "name": "stdout",
     "output_type": "stream",
     "text": [
      "All skils in ML jobs:  606\n"
     ]
    }
   ],
   "source": [
    "print('All skils in ML jobs: ', len(flatten(all_skils)))"
   ]
  },
  {
   "cell_type": "code",
   "execution_count": 12,
   "id": "ceeb91ad-ea7c-43b4-a07c-977339b8f91d",
   "metadata": {},
   "outputs": [],
   "source": [
    "skils_dic = {\"Skils\": flatten(all_skils)}"
   ]
  },
  {
   "cell_type": "code",
   "execution_count": 13,
   "id": "8647ed50-8344-47f4-a54a-b43f184f54a6",
   "metadata": {},
   "outputs": [],
   "source": [
    "skils_df = pd.DataFrame(skils_dic)"
   ]
  },
  {
   "cell_type": "code",
   "execution_count": 21,
   "id": "81612a86-d44e-4bd3-bb2a-76ad877e8bfa",
   "metadata": {},
   "outputs": [],
   "source": [
    "dropped_skils = ['Computer Science', 'Information Technology (IT)','Engineering', 'Software Development',\n",
    "                 'Computer Engineering', 'Software', 'Programming', 'Science', 'Data', 'Software Engineering',\n",
    "                 'Data Science', 'Design']"
   ]
  },
  {
   "cell_type": "code",
   "execution_count": 22,
   "id": "f65e3d52-b702-4c4b-b715-7a7d795fe1ce",
   "metadata": {},
   "outputs": [],
   "source": [
    "skils_count = skils_df['Skils'].value_counts().sort_values(ascending=False).drop(dropped_skils, axis = 0).head(20)"
   ]
  },
  {
   "cell_type": "code",
   "execution_count": 23,
   "id": "9137304c-ccbb-4363-8001-2e0624bf3ad2",
   "metadata": {},
   "outputs": [
    {
     "data": {
      "text/html": [
       "<div>\n",
       "<style scoped>\n",
       "    .dataframe tbody tr th:only-of-type {\n",
       "        vertical-align: middle;\n",
       "    }\n",
       "\n",
       "    .dataframe tbody tr th {\n",
       "        vertical-align: top;\n",
       "    }\n",
       "\n",
       "    .dataframe thead th {\n",
       "        text-align: right;\n",
       "    }\n",
       "</style>\n",
       "<table border=\"1\" class=\"dataframe\">\n",
       "  <thead>\n",
       "    <tr style=\"text-align: right;\">\n",
       "      <th></th>\n",
       "      <th>Skils</th>\n",
       "      <th>Skil_count</th>\n",
       "    </tr>\n",
       "  </thead>\n",
       "  <tbody>\n",
       "    <tr>\n",
       "      <th>0</th>\n",
       "      <td>Python</td>\n",
       "      <td>24</td>\n",
       "    </tr>\n",
       "    <tr>\n",
       "      <th>1</th>\n",
       "      <td>Machine Learning</td>\n",
       "      <td>21</td>\n",
       "    </tr>\n",
       "    <tr>\n",
       "      <th>2</th>\n",
       "      <td>SQL</td>\n",
       "      <td>18</td>\n",
       "    </tr>\n",
       "    <tr>\n",
       "      <th>3</th>\n",
       "      <td>Mathematics</td>\n",
       "      <td>8</td>\n",
       "    </tr>\n",
       "    <tr>\n",
       "      <th>4</th>\n",
       "      <td>Statistics</td>\n",
       "      <td>7</td>\n",
       "    </tr>\n",
       "  </tbody>\n",
       "</table>\n",
       "</div>"
      ],
      "text/plain": [
       "              Skils  Skil_count\n",
       "0            Python          24\n",
       "1  Machine Learning          21\n",
       "2               SQL          18\n",
       "3       Mathematics           8\n",
       "4        Statistics           7"
      ]
     },
     "execution_count": 23,
     "metadata": {},
     "output_type": "execute_result"
    }
   ],
   "source": [
    "skils_count = pd.DataFrame(skils_count).reset_index()\n",
    "skils_count.columns = ['Skils', 'Skil_count']\n",
    "skils_count.head() # Top 5 Skils required "
   ]
  },
  {
   "cell_type": "code",
   "execution_count": 24,
   "id": "2962aeec-1c84-49b9-8b0f-b8df5d8dc414",
   "metadata": {},
   "outputs": [
    {
     "data": {
      "image/png": "[encoded data removed]",
      "text/plain": [
       "<Figure size 432x288 with 1 Axes>"
      ]
     },
     "metadata": {},
     "output_type": "display_data"
    }
   ],
   "source": [
    "# Create bar plot with all_skils on the y-axis\n",
    "sns.barplot(y='Skils', x='Skil_count', data=skils_count)\n",
    "\n",
    "# Show plot\n",
    "plt.show()"
   ]
  },
  {
   "cell_type": "code",
   "execution_count": 20,
   "id": "7bb3ef3c-eca8-4c4d-a422-10416a8e7144",
   "metadata": {},
   "outputs": [
    {
     "data": {
      "image/png": "[encoded data removed]",
      "text/plain": [
       "<Figure size 432x288 with 1 Axes>"
      ]
     },
     "metadata": {},
     "output_type": "display_data"
    }
   ],
   "source": [
    "# Create count plot with Experience year on the y-axis\n",
    "sns.countplot(y=all_year_of_exp)\n",
    "plt.xlabel('job count')\n",
    "plt.ylabel('Experience years')\n",
    "\n",
    "# Show plot\n",
    "plt.show()"
   ]
  },
  {
   "cell_type": "code",
   "execution_count": null,
   "id": "9414c990-b982-4c59-8c20-63bf8ce1834d",
   "metadata": {},
   "outputs": [],
   "source": []
  }
 ],
 "metadata": {
  "kernelspec": {
   "display_name": "Python 3 (ipykernel)",
   "language": "python",
   "name": "python3"
  },
  "language_info": {
   "codemirror_mode": {
    "name": "ipython",
    "version": 3
   },
   "file_extension": ".py",
   "mimetype": "text/x-python",
   "name": "python",
   "nbconvert_exporter": "python",
   "pygments_lexer": "ipython3",
   "version": "3.8.10"
  }
 },
 "nbformat": 4,
 "nbformat_minor": 5
}
